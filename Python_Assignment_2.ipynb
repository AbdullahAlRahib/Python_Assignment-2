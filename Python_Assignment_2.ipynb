{
  "cells": [
    {
      "cell_type": "markdown",
      "metadata": {
        "id": "U4E9DciaZJcY"
      },
      "source": [
        "# **Q1**\n",
        " Create a python program to sort the given list of tuples based on integer value using a\n",
        "lambda function. \n",
        "\n",
        "\n",
        "[('Sachin Tendulkar', 34357), ('Ricky Ponting', 27483), ('Jack Kallis', 25534), ('Virat Kohli', 24936)]"
      ]
    },
    {
      "cell_type": "code",
      "execution_count": 1,
      "metadata": {
        "id": "iOlU2medZJce",
        "colab": {
          "base_uri": "https://localhost:8080/"
        },
        "outputId": "96583dff-f31d-48d2-9f06-8758ccd52cae"
      },
      "outputs": [
        {
          "output_type": "stream",
          "name": "stdout",
          "text": [
            "[('Virat Kohli', 24936), ('Jack Kallis', 25534), ('Ricky Ponting', 27483), ('Sachin Tendulkar', 34357)]\n"
          ]
        }
      ],
      "source": [
        "data = [\n",
        "    ('Sachin Tendulkar', 34357),\n",
        "    ('Ricky Ponting', 27483),\n",
        "    ('Jack Kallis', 25534),\n",
        "    ('Virat Kohli', 24936)\n",
        "]\n",
        "\n",
        "sorted_data = sorted(data, key=lambda x: x[1])\n",
        "\n",
        "print(sorted_data)\n"
      ]
    },
    {
      "cell_type": "markdown",
      "metadata": {
        "id": "Up34mFWtZJch"
      },
      "source": [
        "# **Q2.**\n",
        "Write a Python Program to find the squares of all the numbers in the given list of integers using\n",
        "lambda and map functions.\n",
        "\n",
        "\n",
        "[1, 2, 3, 4, 5, 6, 7, 8, 9, 10]"
      ]
    },
    {
      "cell_type": "code",
      "execution_count": 2,
      "metadata": {
        "id": "nmyXzT2wZJci",
        "colab": {
          "base_uri": "https://localhost:8080/"
        },
        "outputId": "03067e0a-8f45-495c-d2f7-285495a440ad"
      },
      "outputs": [
        {
          "output_type": "stream",
          "name": "stdout",
          "text": [
            "[1, 4, 9, 16, 25, 36, 49, 64, 81, 100]\n"
          ]
        }
      ],
      "source": [
        "numbers = [1, 2, 3, 4, 5, 6, 7, 8, 9, 10]\n",
        "squares = list(map(lambda x: x**2, numbers))\n",
        "print(squares)"
      ]
    },
    {
      "cell_type": "markdown",
      "metadata": {
        "id": "uoIEsSA5ZJcj"
      },
      "source": [
        "# **Q3.**\n",
        " Write a python program to convert the given list of integers into a tuple of strings. Use map and\n",
        "lambda functions\n",
        "\n",
        "\n",
        "Given String: [1, 2, 3, 4, 5, 6, 7, 8, 9, 10]\n",
        "\n",
        "Expected output: ('1', '2', '3', '4', '5', '6', '7', '8', '9', '10')."
      ]
    },
    {
      "cell_type": "code",
      "execution_count": 3,
      "metadata": {
        "id": "wK7wS-5dZJck",
        "colab": {
          "base_uri": "https://localhost:8080/"
        },
        "outputId": "e4ea61e9-cf09-44f7-d656-64fc8e14a1c6"
      },
      "outputs": [
        {
          "output_type": "stream",
          "name": "stdout",
          "text": [
            "('1', '2', '3', '4', '5', '6', '7', '8', '9', '10')\n"
          ]
        }
      ],
      "source": [
        "num = [1, 2, 3, 4, 5, 6, 7, 8, 9, 10]\n",
        "string = tuple(map(lambda x: str(x), num))\n",
        "print(string)"
      ]
    },
    {
      "cell_type": "markdown",
      "metadata": {
        "id": "IHdSqkO_ZJcl"
      },
      "source": [
        "# **Q4.**\n",
        "Write a python program using reduce function to compute the product of a list containing numbers\n",
        "from 1 to 25."
      ]
    },
    {
      "cell_type": "code",
      "source": [
        "from functools import reduce\n",
        "num = list(range(1, 26))\n",
        "res = reduce(lambda x, y: x * y, num)\n",
        "print(res)"
      ],
      "metadata": {
        "colab": {
          "base_uri": "https://localhost:8080/"
        },
        "id": "N9yqyRxKtPWt",
        "outputId": "9f30adc2-b172-43a4-da20-67f8c8ceeeb2"
      },
      "execution_count": 6,
      "outputs": [
        {
          "output_type": "stream",
          "name": "stdout",
          "text": [
            "15511210043330985984000000\n"
          ]
        }
      ]
    },
    {
      "cell_type": "markdown",
      "metadata": {
        "id": "X7yFJc_rZJcm"
      },
      "source": [
        "# **Q5.**\n",
        "Write a python program to filter the numbers in a given list that are divisible by 2 and 3 using the\n",
        "filter function.\n",
        "\n",
        "\n",
        "[2, 3, 6, 9, 27, 60, 90, 120, 55, 46]"
      ]
    },
    {
      "cell_type": "code",
      "execution_count": 7,
      "metadata": {
        "colab": {
          "base_uri": "https://localhost:8080/"
        },
        "id": "nE0OdEVWZJcn",
        "outputId": "34923edb-d64f-4050-8b3b-473e0dcbe838"
      },
      "outputs": [
        {
          "output_type": "stream",
          "name": "stdout",
          "text": [
            "[6, 60, 90, 120]\n"
          ]
        }
      ],
      "source": [
        "num = [2, 3, 6, 9, 27, 60, 90, 120, 55, 46]\n",
        "res = list(filter(lambda x: x % 2 == 0 and x % 3 == 0, num))\n",
        "print(res)"
      ]
    },
    {
      "cell_type": "markdown",
      "metadata": {
        "id": "s9sJr-M2ZJcn"
      },
      "source": [
        "# **Q6.**\n",
        ". Write a python program to find palindromes in the given list of strings using lambda and filter\n",
        "function.\n",
        "\n",
        "\n",
        "['python', 'php', 'aba', 'radar', 'level']\n"
      ]
    },
    {
      "cell_type": "code",
      "execution_count": 8,
      "metadata": {
        "id": "aKASvr-qZJcn",
        "colab": {
          "base_uri": "https://localhost:8080/"
        },
        "outputId": "eabad395-2887-4d94-ff7b-edefb98323d8"
      },
      "outputs": [
        {
          "output_type": "stream",
          "name": "stdout",
          "text": [
            "['php', 'aba', 'radar', 'level']\n"
          ]
        }
      ],
      "source": [
        "a = ['python', 'php', 'aba', 'radar', 'level']\n",
        "res = list(filter(lambda x: x == x[::-1], a))\n",
        "print(res)"
      ]
    }
  ],
  "metadata": {
    "kernelspec": {
      "display_name": "Python 3",
      "language": "python",
      "name": "python3"
    },
    "language_info": {
      "codemirror_mode": {
        "name": "ipython",
        "version": 3
      },
      "file_extension": ".py",
      "mimetype": "text/x-python",
      "name": "python",
      "nbconvert_exporter": "python",
      "pygments_lexer": "ipython3",
      "version": "3.11.3"
    },
    "orig_nbformat": 4,
    "colab": {
      "provenance": []
    }
  },
  "nbformat": 4,
  "nbformat_minor": 0
}